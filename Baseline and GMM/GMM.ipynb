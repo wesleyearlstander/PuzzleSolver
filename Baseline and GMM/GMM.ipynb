{
 "cells": [
  {
   "cell_type": "code",
   "execution_count": 2,
   "metadata": {},
   "outputs": [
    {
     "name": "stderr",
     "output_type": "stream",
     "text": [
      "Loading Images: 100%|██████████| 48/48 [00:01<00:00, 26.56it/s]\n",
      "Loading Masks: 100%|██████████| 48/48 [00:00<00:00, 214.00it/s]\n",
      "Resizing Images: 100%|██████████| 48/48 [00:00<00:00, 3282.09it/s]\n",
      "Resizing Masks: 100%|██████████| 48/48 [00:00<00:00, 6443.89it/s]"
     ]
    },
    {
     "name": "stdout",
     "output_type": "stream",
     "text": [
      "\n",
      " (768, 1024, 3) -> (192, 256, 3)\n"
     ]
    },
    {
     "name": "stderr",
     "output_type": "stream",
     "text": [
      "\n"
     ]
    }
   ],
   "source": [
    "from classes import *\n",
    "from sklearn.model_selection import KFold\n",
    "from sklearn.metrics import roc_auc_score\n",
    "from math import cos, sin, sqrt\n",
    "from numba import jit\n",
    "from GMM import *\n",
    "from sklearn.decomposition import PCA"
   ]
  },
  {
   "cell_type": "code",
   "execution_count": 3,
   "metadata": {},
   "outputs": [
    {
     "name": "stderr",
     "output_type": "stream",
     "text": [
      "Generating Pieces: 48it [00:10,  4.49it/s]\n",
      "/Library/Python/3.7/site-packages/sklearn/utils/validation.py:71: FutureWarning: Pass shuffle=True, random_state=1 as keyword args. From version 0.25 passing these as positional arguments will result in an error\n",
      "  FutureWarning)\n"
     ]
    }
   ],
   "source": [
    "#Initialize puzzle\n",
    "puzzle = Puzzle(MATCH_IMGS)\n",
    "pieces = np.array(puzzle.pieces)\n",
    "kfold = KFold(6, True, 1)\n",
    "heigt, width, _ = puzzle.pieces[0].image.shape"
   ]
  },
  {
   "cell_type": "code",
   "execution_count": 4,
   "metadata": {},
   "outputs": [],
   "source": [
    "test_params = np.array([ [2, 4, 6],\n",
    "                         [2, 4, 6]] )\n",
    "\n",
    "#Get test and train features\n",
    "def get_DoG_train(pieces):\n",
    "    foreground = []\n",
    "    background = []\n",
    "    for p in pieces:\n",
    "        foreground.append(np.concatenate([p.RGB_foreground, p.DoG_foreground], axis = 1))\n",
    "        background.append(np.concatenate([p.RGB_background, p.DoG_background], axis = 1 ))\n",
    "    foreground = np.concatenate(foreground)\n",
    "    background = np.concatenate(background)\n",
    "    \n",
    "    return foreground, background\n",
    "  \n",
    "def get_DoG_test(pieces):\n",
    "    X_test = []\n",
    "    msks = []\n",
    "    for p in pieces:\n",
    "        X_test.append(np.concatenate([p.features_RGB, p.features_DoG], axis = 1))\n",
    "        msks.append(p.mask.flatten())\n",
    "    return np.concatenate(X_test), np.concatenate(msks)\n",
    "\n",
    "\n",
    "def get_RGB_train(pieces):\n",
    "    foreground = []\n",
    "    background = []\n",
    "    for p in pieces:\n",
    "        foreground.append(np.concatenate([p.RGB_foreground, p.DoG_foreground], axis = 1))\n",
    "        background.append(np.concatenate([p.RGB_background, p.DoG_background], axis = 1 ))\n",
    "    foreground = np.concatenate(foreground)\n",
    "    background = np.concatenate(background)\n",
    "    \n",
    "    return foreground, background\n",
    "\n",
    "    \n",
    "def get_RGB_test(pieces):\n",
    "    X_test = []\n",
    "    msks = []\n",
    "    for p in pieces:\n",
    "        X_test.append(np.concatenate([p.features_RGB, p.features_DoG], axis = 1))\n",
    "        msks.append(p.mask.flatten())\n",
    "    return np.concatenate(X_test), np.concatenate(msks)\n",
    "\n",
    "def rotate(arr):\n",
    "    \"\"\"\n",
    "    Rotates claims between vehicles in fixed period\n",
    "    \"\"\"\n",
    "    temp = arr[0]\n",
    "    n = len(arr)\n",
    "    for k in range(n-1):\n",
    "        arr[k] = arr[k+1]\n",
    "    arr[n-1] = temp\n",
    "    return arr\n",
    "\n",
    "#Initialize parameters to optimize\n",
    "def permutations(data, n_cars, curr_period, n_periods, output = []):\n",
    "    \"\"\" INPUT\n",
    "        data: a day worth of fitments, fixed to periods\n",
    "        n_cars: number of cars\n",
    "        n_periods: Number of periods\n",
    "        \n",
    "        OUTPUT\n",
    "        output: an array of all permuations of the day (should be n_cars^(n_periods - 1))\n",
    "        \"\"\"\n",
    "    if curr_period == n_periods:\n",
    "        output.append(np.array(data.tolist())[:, 0])\n",
    "        return\n",
    "    \n",
    "    for i in range(n_cars):\n",
    "        data[curr_period, :] = rotate(data[curr_period, :])\n",
    "        permutations(data, n_cars, curr_period + 1, n_periods, output)\n",
    "    return output\n",
    "\n",
    "tests = np.array(permutations(test_params, 3, 0, 2))"
   ]
  },
  {
   "cell_type": "code",
   "execution_count": 5,
   "metadata": {},
   "outputs": [],
   "source": [
    "def get_MR8_train(pieces):\n",
    "    foreground = []\n",
    "    background = []\n",
    "    for p in pieces:\n",
    "        foreground.append(p.MR8_foreground)\n",
    "        background.append(p.MR8_background)\n",
    "    foreground = np.concatenate(foreground)\n",
    "    background = np.concatenate(background)\n",
    "    \n",
    "    return foreground, background\n",
    "\n",
    "    \n",
    "def get_MR8_test(pieces):\n",
    "    X_test = []\n",
    "    msks = []\n",
    "    for p in pieces:\n",
    "        X_test.append(p.features_MR8)\n",
    "        msks.append(p.mask.flatten())\n",
    "    return np.concatenate(X_test), np.concatenate(msks)\n",
    "\n",
    "def get_MR8_train(pieces):\n",
    "    foreground = []\n",
    "    background = []\n",
    "    for p in pieces:\n",
    "        foreground.append(p.MR8_foreground)\n",
    "        background.append(p.MR8_background)\n",
    "    foreground = np.concatenate(foreground)\n",
    "    background = np.concatenate(background)\n",
    "    \n",
    "    return foreground, background\n",
    "\n",
    "def get_PCA_train(pieces):\n",
    "    foreground = []\n",
    "    background = []\n",
    "    for p in pieces:\n",
    "        foreground.append(p.PCAReduced_foreground)\n",
    "        background.append(p.PCAReduced_background)\n",
    "    foreground = np.concatenate(foreground)\n",
    "    background = np.concatenate(background)\n",
    "    \n",
    "    return foreground, background\n",
    "\n",
    "def get_PCA_test(pieces):\n",
    "    X_test = []\n",
    "    msks = []\n",
    "    for p in pieces:\n",
    "        X_test.append(p.features_PCAReduced)\n",
    "        msks.append(p.mask.flatten())\n",
    "    return np.concatenate(X_test), np.concatenate(msks)"
   ]
  },
  {
   "cell_type": "code",
   "execution_count": 6,
   "metadata": {},
   "outputs": [],
   "source": [
    "#Plot probability map for sanity check\n",
    "def plot_prob(height = 192, width = 256, p = None, k= 0 ):\n",
    "    plt.imshow(p[k*height*width:(k+1)*height*width].reshape(height, width))"
   ]
  },
  {
   "cell_type": "code",
   "execution_count": 7,
   "metadata": {},
   "outputs": [],
   "source": [
    "def run(foreground, background, X_test, y_test, n_f, n_b, threshold):\n",
    "    \"\"\"\n",
    "    foreground: foreground pixels\n",
    "    background: background pixels\n",
    "    X_test: test features\n",
    "    y_test: masks\n",
    "    threshold: threshold\n",
    "    \"\"\"\n",
    "    #Train models\n",
    "    try:\n",
    "        gmm_foreground = GMM(N = n_f)\n",
    "        gmm_foreground.run(foreground)\n",
    "        gmm_background = GMM(N = n_b)\n",
    "        gmm_background.run(background)\n",
    "        #Make prediction\n",
    "    except:\n",
    "        print(\"gmm did not run error\")\n",
    "        return -1\n",
    "    l = len(foreground) / (len(foreground) + len(background))\n",
    "    prob_f = gmm_foreground.predict(X_test)\n",
    "    prob_b = gmm_background.predict(X_test)\n",
    "    #Calculate probability ( Sometimes the pictures break when I use less clusters)\n",
    "    prob = l*prob_f / (l*prob_f + (1-l)*prob_b )\n",
    "    \n",
    "        \n",
    "    return roc_auc_score(prob > 0.5, y_test)"
   ]
  },
  {
   "cell_type": "code",
   "execution_count": 8,
   "metadata": {},
   "outputs": [],
   "source": [
    "def run_tests(features_Train = None, features_Test = None,  threshold = 0.5, k = 6, pieces = None, HypeParam = None):\n",
    "        \"\"\"\n",
    "        features_Train : Function to extract train features\n",
    "        features_Test: Function to extract test features\n",
    "        \"\"\"\n",
    "        kfold = KFold(k)\n",
    "        mean_results = []\n",
    "        for t in HypeParam:\n",
    "            #get parameters\n",
    "            n_f = int(t[0])\n",
    "            n_b = int(t[1])\n",
    "            results = []\n",
    "            print(t)\n",
    "            #Check on all 6-folds\n",
    "            for train, test in kfold.split(pieces):\n",
    "                foreground, background = features_Train(pieces[train])\n",
    "                X, y = features_Test(pieces[test])\n",
    "                score = run(foreground = foreground, background = background, X_test = X, y_test= y, n_f = n_f, n_b = n_b, threshold = threshold)  \n",
    "            mean_results.append(np.mean(results))\n",
    "            print( \"Mean\", np.mean(results))\n",
    "        return np.amax(mean_results)"
   ]
  },
  {
   "cell_type": "code",
   "execution_count": null,
   "metadata": {},
   "outputs": [
    {
     "name": "stdout",
     "output_type": "stream",
     "text": [
      "RGB features\n",
      "[4 4]\n"
     ]
    },
    {
     "name": "stderr",
     "output_type": "stream",
     "text": [
      "/Users/jamieburns/Library/Python/3.7/lib/python/site-packages/numpy/core/fromnumeric.py:3335: RuntimeWarning: Mean of empty slice.\n",
      "  out=out, **kwargs)\n",
      "/Users/jamieburns/Library/Python/3.7/lib/python/site-packages/numpy/core/_methods.py:161: RuntimeWarning: invalid value encountered in double_scalars\n",
      "  ret = ret.dtype.type(ret / rcount)\n"
     ]
    },
    {
     "name": "stdout",
     "output_type": "stream",
     "text": [
      "Mean nan\n",
      "[4 6]\n"
     ]
    },
    {
     "name": "stderr",
     "output_type": "stream",
     "text": [
      "/Users/jamieburns/Library/Python/3.7/lib/python/site-packages/numpy/core/fromnumeric.py:3335: RuntimeWarning: Mean of empty slice.\n",
      "  out=out, **kwargs)\n",
      "/Users/jamieburns/Library/Python/3.7/lib/python/site-packages/numpy/core/_methods.py:161: RuntimeWarning: invalid value encountered in double_scalars\n",
      "  ret = ret.dtype.type(ret / rcount)\n"
     ]
    },
    {
     "name": "stdout",
     "output_type": "stream",
     "text": [
      "Mean nan\n",
      "[4 2]\n"
     ]
    }
   ],
   "source": [
    "print(\"RGB features\")\n",
    "score = run_tests(features_Train = get_RGB_train, features_Test = get_RGB_test,  threshold = 0.5, k = 6, pieces = pieces, HypeParam = tests)\n",
    "print(\"Best RGB score: \", score)\n",
    "print(\"RGB & DoG features\")\n",
    "score = run_tests(features_Train = get_DoG_train, features_Test = get_DoG_Train,  threshold = 0.5, k = 6, pieces = pieces, HypeParam = tests)\n",
    "print(\"Best DoG score: \", score)\n",
    "print(\"MR8 features\")\n",
    "score = run_tests(features_Train = get_MR8_train, features_Test = get_MR8_Train,  threshold = 0.5, k = 6, pieces = pieces, HypeParam = tests)\n",
    "print(\"Best MR8 score: \", score)"
   ]
  },
  {
   "cell_type": "code",
   "execution_count": null,
   "metadata": {},
   "outputs": [],
   "source": []
  }
 ],
 "metadata": {
  "kernelspec": {
   "display_name": "Python 3",
   "language": "python",
   "name": "python3"
  },
  "language_info": {
   "codemirror_mode": {
    "name": "ipython",
    "version": 3
   },
   "file_extension": ".py",
   "mimetype": "text/x-python",
   "name": "python",
   "nbconvert_exporter": "python",
   "pygments_lexer": "ipython3",
   "version": "3.7.3"
  }
 },
 "nbformat": 4,
 "nbformat_minor": 4
}
