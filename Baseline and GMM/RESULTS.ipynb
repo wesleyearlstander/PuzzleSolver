{
 "cells": [
  {
   "cell_type": "code",
   "execution_count": 17,
   "metadata": {},
   "outputs": [],
   "source": [
    "import numpy as np\n",
    "import pandas as pd\n",
    "import seaborn as sns\n",
    "import matplotlib.pyplot as plt"
   ]
  },
  {
   "cell_type": "code",
   "execution_count": 55,
   "metadata": {},
   "outputs": [],
   "source": [
    "RGB_results = np.load('RGB_results.npy')\n",
    "DoG_results = np.load('DoG_results.npy')\n",
    "MR8_results = np.load('MR8_results.npy')\n",
    "Parameters = np.load('Parameters.npy')"
   ]
  },
  {
   "cell_type": "code",
   "execution_count": 10,
   "metadata": {},
   "outputs": [
    {
     "name": "stdout",
     "output_type": "stream",
     "text": [
      "(array([4, 4]), 0.9506257602277534)\n",
      "(array([4, 6]), 0.9470267397744255)\n",
      "(array([4, 2]), 0.9671453001297158)\n",
      "(array([6, 4]), 0.958867068054658)\n",
      "(array([6, 6]), 0.9599701516495364)\n",
      "(array([6, 2]), 0.9607762513429371)\n",
      "(array([2, 4]), 0.9525913858800705)\n",
      "(array([2, 6]), 0.9451608182451459)\n",
      "(array([2, 2]), 0.9660378395624738)\n"
     ]
    }
   ],
   "source": [
    "for o in zip(Parameters, RGB_results):\n",
    "    print(o)"
   ]
  },
  {
   "cell_type": "code",
   "execution_count": 51,
   "metadata": {},
   "outputs": [],
   "source": [
    "def get_results(results, params, name):\n",
    "    heatMap = np.array([[results[-1], results[-3], results[-2]],\n",
    "                        [results[2], results[0], results[1]],\n",
    "                        [results[5], results[3], results[4]]])\n",
    "    plt.title(\"{} Feature Set Heat Map\".format(name))\n",
    "    sns.heatmap(heatMap, xticklabels=[2, 4, 6], yticklabels=[2, 4, 6], annot=True)\n",
    "    plt.ylabel('# Foreground Clusters')\n",
    "    plt.xlabel(\"# Background Clusters\")\n",
    "    plt.savefig('GMM_Results/{}.png'.format(name))\n",
    "    plt.show()\n",
    "    m_i = np.argmax(results)\n",
    "    print(\"The highest accuracy for the {} feature set is: {}\".format(name, results[m_i]))\n",
    "    print(\"Best scoring parameters for the {} feature set was achieved with {} foreground clusters and {} background clusters\".format(name, params[m_i][0], params[m_i][1]))"
   ]
  },
  {
   "cell_type": "code",
   "execution_count": 59,
   "metadata": {},
   "outputs": [
    {
     "data": {
      "image/png": "[encoded data removed]",
      "text/plain": [
       "<Figure size 432x288 with 2 Axes>"
      ]
     },
     "metadata": {
      "needs_background": "light"
     },
     "output_type": "display_data"
    },
    {
     "name": "stdout",
     "output_type": "stream",
     "text": [
      "The highest accuracy for the MR8 feature set is: 0.942854606887123\n",
      "Best scoring parameters for the MR8 feature set was achieved with 2 foreground clusters and 4 background clusters\n"
     ]
    }
   ],
   "source": [
    "get_results(MR8_results, Parameters, 'MR8')"
   ]
  },
  {
   "cell_type": "code",
   "execution_count": null,
   "metadata": {},
   "outputs": [],
   "source": []
  }
 ],
 "metadata": {
  "kernelspec": {
   "display_name": "Python 3",
   "language": "python",
   "name": "python3"
  },
  "language_info": {
   "codemirror_mode": {
    "name": "ipython",
    "version": 3
   },
   "file_extension": ".py",
   "mimetype": "text/x-python",
   "name": "python",
   "nbconvert_exporter": "python",
   "pygments_lexer": "ipython3",
   "version": "3.7.3"
  }
 },
 "nbformat": 4,
 "nbformat_minor": 4
}
