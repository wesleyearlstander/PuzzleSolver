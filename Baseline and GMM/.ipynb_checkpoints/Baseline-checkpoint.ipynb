{
 "cells": [
  {
   "cell_type": "code",
   "execution_count": 1,
   "metadata": {},
   "outputs": [
    {
     "name": "stderr",
     "output_type": "stream",
     "text": [
      "Loading Images: 100%|██████████| 48/48 [00:01<00:00, 25.01it/s]\n",
      "Loading Masks: 100%|██████████| 48/48 [00:00<00:00, 181.36it/s]\n",
      "Resizing Images: 100%|██████████| 48/48 [00:00<00:00, 3117.91it/s]\n",
      "Resizing Masks: 100%|██████████| 48/48 [00:00<00:00, 6867.00it/s]"
     ]
    },
    {
     "name": "stdout",
     "output_type": "stream",
     "text": [
      "\n",
      " (768, 1024, 3) -> (192, 256, 3)\n"
     ]
    },
    {
     "name": "stderr",
     "output_type": "stream",
     "text": [
      "\n"
     ]
    }
   ],
   "source": [
    "from classes import *\n",
    "from Baseline import *"
   ]
  },
  {
   "cell_type": "code",
   "execution_count": 2,
   "metadata": {},
   "outputs": [
    {
     "name": "stderr",
     "output_type": "stream",
     "text": [
      "Generating Pieces: 48it [00:11,  4.25it/s]\n"
     ]
    }
   ],
   "source": [
    "pieces = Puzzle(MATCH_IMGS).pieces"
   ]
  },
  {
   "cell_type": "code",
   "execution_count": null,
   "metadata": {},
   "outputs": [],
   "source": [
    "def get_DoG_train(pieces):\n",
    "    foreground = []\n",
    "    background = []\n",
    "    for p in pieces:\n",
    "        foreground.append(np.concatenate([p.RGB_foreground, p.DoG_foreground], axis = 1))\n",
    "        background.append(np.concatenate([p.RGB_background, p.DoG_background], axis = 1 ))\n",
    "    foreground = np.concatenate(foreground)\n",
    "    background = np.concatenate(background)\n",
    "    \n",
    "    return foreground, background\n",
    "\n",
    "    \n",
    "def get_DoG_test(pieces):\n",
    "    X_test = []\n",
    "    msks = []\n",
    "    for p in pieces:\n",
    "        X_test.append(np.concatenate([p.features_RGB, p.features_DoG], axis = 1))\n",
    "        msks.append(p.mask.flatten())\n",
    "    return np.concatenate(X_test), np.concatenate(msks)\n",
    "\n",
    "def get_RGB_train(pieces):\n",
    "    foreground = []\n",
    "    background = []\n",
    "    for p in pieces:\n",
    "        foreground.append(p.RGB_foreground)\n",
    "        background.append(p.RGB_background)\n",
    "    foreground = np.concatenate(foreground)\n",
    "    background = np.concatenate(background)\n",
    "    \n",
    "    return foreground, background\n",
    "\n",
    "    \n",
    "def get_RGB_test(pieces):\n",
    "    X_test = []\n",
    "    msks = []\n",
    "    for p in pieces:\n",
    "        X_test.append(np.concatenate([p.features_RGB, p.features_DoG], axis = 1))\n",
    "        msks.append(p.mask.flatten())\n",
    "    return np.concatenate(X_test), np.concatenate(msks)\n",
    "\n",
    "\n",
    "def get_MR8_train(pieces):\n",
    "    foreground = []\n",
    "    background = []\n",
    "    for p in pieces:\n",
    "        foreground.append(p.MR8_foreground)\n",
    "        background.append(p.MR8_background)\n",
    "    foreground = np.concatenate(foreground)\n",
    "    background = np.concatenate(background)\n",
    "    \n",
    "    return foreground, background\n",
    "\n",
    "    \n",
    "def get_MR8_test(pieces):\n",
    "    X_test = []\n",
    "    msks = []\n",
    "    for p in pieces:\n",
    "        X_test.append(p.features_MR8)\n",
    "        msks.append(p.mask.flatten())\n",
    "    return np.concatenate(X_test), np.concatenate(msks)"
   ]
  }
 ],
 "metadata": {
  "kernelspec": {
   "display_name": "Python 3",
   "language": "python",
   "name": "python3"
  },
  "language_info": {
   "codemirror_mode": {
    "name": "ipython",
    "version": 3
   },
   "file_extension": ".py",
   "mimetype": "text/x-python",
   "name": "python",
   "nbconvert_exporter": "python",
   "pygments_lexer": "ipython3",
   "version": "3.7.3"
  }
 },
 "nbformat": 4,
 "nbformat_minor": 4
}
